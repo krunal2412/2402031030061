{
  "nbformat": 4,
  "nbformat_minor": 0,
  "metadata": {
    "colab": {
      "name": "MiniProject.ipynb",
      "provenance": [],
      "collapsed_sections": []
    },
    "kernelspec": {
      "name": "python3",
      "display_name": "Python 3"
    },
    "language_info": {
      "name": "python"
    }
  },
  "cells": [
    {
      "cell_type": "code",
      "source": [
        "import numpy as np"
      ],
      "metadata": {
        "id": "QOepuiVEQmVL"
      },
      "execution_count": 35,
      "outputs": []
    },
    {
      "cell_type": "markdown",
      "source": [
        "# Step 1 : Read the Data!"
      ],
      "metadata": {
        "id": "XJJVjthYIz6w"
      }
    },
    {
      "cell_type": "code",
      "execution_count": 36,
      "metadata": {
        "id": "7xcB2zo-O0t-"
      },
      "outputs": [],
      "source": [
        "data_file=\"/content/makeSenseOfCensus.csv\""
      ]
    },
    {
      "cell_type": "markdown",
      "source": [
        "# Loading the data"
      ],
      "metadata": {
        "id": "OiSJcx6GLcWT"
      }
    },
    {
      "cell_type": "code",
      "source": [
        "\n",
        "data = np.genfromtxt(data_file, delimiter=\",\", skip_header=1)\n",
        "print(\"\\nData:\\n\\n \", data)\n"
      ],
      "metadata": {
        "colab": {
          "base_uri": "https://localhost:8080/"
        },
        "id": "Fjx-kQkxQD7q",
        "outputId": "6b33c0b4-ce04-4e6c-cb47-3ee203f4322f"
      },
      "execution_count": 37,
      "outputs": [
        {
          "output_type": "stream",
          "name": "stdout",
          "text": [
            "\n",
            "Data:\n",
            "\n",
            "  [[39. 13.  4. ...  0. 40.  0.]\n",
            " [50. 13.  4. ...  0. 13.  0.]\n",
            " [38.  9.  4. ...  0. 40.  0.]\n",
            " ...\n",
            " [48. 13.  4. ...  0. 58.  1.]\n",
            " [40. 10.  4. ...  0. 40.  0.]\n",
            " [39. 13.  4. ...  0. 50.  1.]]\n"
          ]
        }
      ]
    },
    {
      "cell_type": "markdown",
      "source": [
        "# Printing the type of data"
      ],
      "metadata": {
        "id": "lLoQJxpdOCfA"
      }
    },
    {
      "cell_type": "code",
      "source": [
        "print(\"\\nType of data: \\n\\n\\n\", type(data))"
      ],
      "metadata": {
        "colab": {
          "base_uri": "https://localhost:8080/"
        },
        "id": "xkPasCIhQ1qC",
        "outputId": "5c15ee56-e668-4338-d532-ceb6487adcf0"
      },
      "execution_count": 38,
      "outputs": [
        {
          "output_type": "stream",
          "name": "stdout",
          "text": [
            "\n",
            "Type of data: \n",
            "\n",
            "\n",
            " <class 'numpy.ndarray'>\n"
          ]
        }
      ]
    },
    {
      "cell_type": "markdown",
      "source": [
        "# Step 2 : Append the Data"
      ],
      "metadata": {
        "id": "QTSTCc7jVppG"
      }
    },
    {
      "cell_type": "code",
      "source": [
        "new_record = [[50,9,4,1,0,0,40,0]]"
      ],
      "metadata": {
        "id": "jokdR-EtS1dz"
      },
      "execution_count": 39,
      "outputs": []
    },
    {
      "cell_type": "markdown",
      "source": [
        "## Append 'new_record' (given) to 'data' using \"np.concatenate()\""
      ],
      "metadata": {
        "id": "qVKX1_leVwqh"
      }
    },
    {
      "cell_type": "code",
      "source": [
        "final_data=np.concatenate((data,new_record))"
      ],
      "metadata": {
        "id": "V38I3c5rTJPQ"
      },
      "execution_count": 40,
      "outputs": []
    },
    {
      "cell_type": "code",
      "source": [
        "final_data "
      ],
      "metadata": {
        "colab": {
          "base_uri": "https://localhost:8080/"
        },
        "id": "QOWjaWI3TlP4",
        "outputId": "b87c4b40-64ac-4310-db00-99b1eaad2195"
      },
      "execution_count": 41,
      "outputs": [
        {
          "output_type": "execute_result",
          "data": {
            "text/plain": [
              "array([[39., 13.,  4., ...,  0., 40.,  0.],\n",
              "       [50., 13.,  4., ...,  0., 13.,  0.],\n",
              "       [38.,  9.,  4., ...,  0., 40.,  0.],\n",
              "       ...,\n",
              "       [40., 10.,  4., ...,  0., 40.,  0.],\n",
              "       [39., 13.,  4., ...,  0., 50.,  1.],\n",
              "       [50.,  9.,  4., ...,  0., 40.,  0.]])"
            ]
          },
          "metadata": {},
          "execution_count": 41
        }
      ]
    },
    {
      "cell_type": "markdown",
      "source": [
        "# Step 3 : Check if it's a young country or old country"
      ],
      "metadata": {
        "id": "i_5WAJWYWHpL"
      }
    },
    {
      "cell_type": "markdown",
      "source": [
        " Create a new array called 'age' by taking only age column(age is the column with index 0) of 'census' array."
      ],
      "metadata": {
        "id": "_CqLiA9OWQPm"
      }
    },
    {
      "cell_type": "code",
      "source": [
        "age= final_data[:,0]\n",
        "age"
      ],
      "metadata": {
        "colab": {
          "base_uri": "https://localhost:8080/"
        },
        "id": "-63fDN7BTm6R",
        "outputId": "0f845977-d126-4e46-94a7-4b70bac5d381"
      },
      "execution_count": 42,
      "outputs": [
        {
          "output_type": "execute_result",
          "data": {
            "text/plain": [
              "array([39., 50., 38., ..., 40., 39., 50.])"
            ]
          },
          "metadata": {},
          "execution_count": 42
        }
      ]
    },
    {
      "cell_type": "markdown",
      "source": [
        "Find the max age and store it in a variable called 'max_age'.\n",
        "\n"
      ],
      "metadata": {
        "id": "_IyNXVKqWpPS"
      }
    },
    {
      "cell_type": "code",
      "source": [
        "max_age= (age.max())\n",
        "print(\"Maximum Age is \",max_age)"
      ],
      "metadata": {
        "colab": {
          "base_uri": "https://localhost:8080/"
        },
        "id": "NmXi-xJ_WhTR",
        "outputId": "e3b21b3f-a4c3-488b-e9c5-8c70102b178d"
      },
      "execution_count": 81,
      "outputs": [
        {
          "output_type": "stream",
          "name": "stdout",
          "text": [
            "Maximum Age is  90.0\n"
          ]
        }
      ]
    },
    {
      "cell_type": "markdown",
      "source": [
        "Find the min age and store it in a variable called 'min_age'."
      ],
      "metadata": {
        "id": "ywrTp3KTWu9z"
      }
    },
    {
      "cell_type": "code",
      "source": [
        "min_age= age.min()\n",
        "print('minimum age is',min_age)"
      ],
      "metadata": {
        "colab": {
          "base_uri": "https://localhost:8080/"
        },
        "id": "WMZxRurtXJuK",
        "outputId": "c9c28784-5939-4c5d-b678-dfeb090f7c56"
      },
      "execution_count": 80,
      "outputs": [
        {
          "output_type": "stream",
          "name": "stdout",
          "text": [
            "minimum age is 17.0\n"
          ]
        }
      ]
    },
    {
      "cell_type": "markdown",
      "source": [
        "Find the mean of the age and store it in a variable called 'age_mean'."
      ],
      "metadata": {
        "id": "k6TqZMYQd8w1"
      }
    },
    {
      "cell_type": "code",
      "source": [
        "age_mean = age.mean()\n",
        "print(age_mean)"
      ],
      "metadata": {
        "colab": {
          "base_uri": "https://localhost:8080/"
        },
        "id": "7dTC5eaIXs__",
        "outputId": "b23fff73-3d1f-4262-e556-9b755e1188af"
      },
      "execution_count": 45,
      "outputs": [
        {
          "output_type": "stream",
          "name": "stdout",
          "text": [
            "38.06293706293706\n"
          ]
        }
      ]
    },
    {
      "cell_type": "markdown",
      "source": [
        "Find the standard deviation of the age and store it in a variable called 'age_std'"
      ],
      "metadata": {
        "id": "GEDv3kfSeF9p"
      }
    },
    {
      "cell_type": "code",
      "source": [
        "age_std = age.std()\n",
        "print(age_std)"
      ],
      "metadata": {
        "colab": {
          "base_uri": "https://localhost:8080/"
        },
        "id": "SF33E4XbX8Yi",
        "outputId": "5312cffe-2ef8-499c-e65a-93ee94c6b176"
      },
      "execution_count": 46,
      "outputs": [
        {
          "output_type": "stream",
          "name": "stdout",
          "text": [
            "13.341478176165857\n"
          ]
        }
      ]
    },
    {
      "cell_type": "markdown",
      "source": [
        "# Step 4: Let's check the country's race distribution to identify the minorities"
      ],
      "metadata": {
        "id": "zfJWcybQecKB"
      }
    },
    {
      "cell_type": "markdown",
      "source": [
        "Create four different arrays by subsetting 'census' array by Race column(Race is the column with index 2) and save them in 'race_0','race_1', 'race_2', 'race_3' and 'race_4' respectively(Meaning: Store the array where 'race'column has value 0 in 'race_0', so on and so forth)"
      ],
      "metadata": {
        "id": "SrvNIFGvef4r"
      }
    },
    {
      "cell_type": "code",
      "source": [
        "final_data [final_data[:,2]==0]"
      ],
      "metadata": {
        "colab": {
          "base_uri": "https://localhost:8080/"
        },
        "id": "2iaIx6n6YHPh",
        "outputId": "a540ec02-058f-4e3b-d050-087deff6de4a"
      },
      "execution_count": 47,
      "outputs": [
        {
          "output_type": "execute_result",
          "data": {
            "text/plain": [
              "array([[34.,  4.,  0.,  1.,  0.,  0., 45.,  0.],\n",
              "       [35., 10.,  0.,  0.,  0.,  0., 40.,  0.],\n",
              "       [60.,  6.,  0.,  0.,  0.,  0., 10.,  0.],\n",
              "       [51.,  9.,  0.,  1.,  0.,  0., 40.,  0.],\n",
              "       [25., 10.,  0.,  0.,  0.,  0., 20.,  0.],\n",
              "       [20.,  9.,  0.,  1.,  0.,  0., 48.,  0.],\n",
              "       [23., 10.,  0.,  0.,  0.,  0., 25.,  0.],\n",
              "       [29.,  9.,  0.,  1.,  0.,  0., 40.,  0.],\n",
              "       [27., 12.,  0.,  1.,  0.,  0., 40.,  0.],\n",
              "       [31., 12.,  0.,  0.,  0.,  0., 40.,  0.]])"
            ]
          },
          "metadata": {},
          "execution_count": 47
        }
      ]
    },
    {
      "cell_type": "code",
      "source": [
        ""
      ],
      "metadata": {
        "id": "OEz-yzfrYxFC"
      },
      "execution_count": 47,
      "outputs": []
    },
    {
      "cell_type": "markdown",
      "source": [
        "Store the length of the above created arrays in 'len_0', 'len_1','len_2', 'len_3' and 'len_4' respectively"
      ],
      "metadata": {
        "id": "thg4wOEQeo1x"
      }
    },
    {
      "cell_type": "code",
      "source": [
        "race_0=final_data[final_data[:,2]==0]"
      ],
      "metadata": {
        "id": "6Nbz3CBkZHLY"
      },
      "execution_count": 48,
      "outputs": []
    },
    {
      "cell_type": "code",
      "source": [
        "race_1=final_data[final_data[:,2]==1]"
      ],
      "metadata": {
        "id": "Zm0CnpfHaWQ7"
      },
      "execution_count": 49,
      "outputs": []
    },
    {
      "cell_type": "code",
      "source": [
        "race_2=final_data[final_data[:,2]==2]"
      ],
      "metadata": {
        "id": "BmTApcJTab3j"
      },
      "execution_count": 50,
      "outputs": []
    },
    {
      "cell_type": "code",
      "source": [
        "race_3=final_data[final_data[:,2]==3]"
      ],
      "metadata": {
        "id": "O-SEHnv9afoQ"
      },
      "execution_count": 51,
      "outputs": []
    },
    {
      "cell_type": "code",
      "source": [
        "race_4=final_data[final_data[:,2]==4]"
      ],
      "metadata": {
        "id": "HksygZJFaogo"
      },
      "execution_count": 52,
      "outputs": []
    },
    {
      "cell_type": "markdown",
      "source": [
        "Find out which is the race with the minimum no. of citizens"
      ],
      "metadata": {
        "id": "p57jTibJezYj"
      }
    },
    {
      "cell_type": "code",
      "source": [
        "len_0=len(race_0)\n",
        "len_0"
      ],
      "metadata": {
        "colab": {
          "base_uri": "https://localhost:8080/"
        },
        "id": "pEF893xZbTFL",
        "outputId": "d52d537c-2139-457f-bea6-2fb2f1dd390b"
      },
      "execution_count": 53,
      "outputs": [
        {
          "output_type": "execute_result",
          "data": {
            "text/plain": [
              "10"
            ]
          },
          "metadata": {},
          "execution_count": 53
        }
      ]
    },
    {
      "cell_type": "code",
      "source": [
        "len_1=len(race_1)\n",
        "print(len_1)\n",
        "len_2=len(race_2)\n",
        "len_3=len(race_3)\n",
        "len_4=len(race_4)"
      ],
      "metadata": {
        "colab": {
          "base_uri": "https://localhost:8080/"
        },
        "id": "Hb1Dh4kwbrMu",
        "outputId": "6bd84acd-e009-46eb-b70b-6897eef82d73"
      },
      "execution_count": 54,
      "outputs": [
        {
          "output_type": "stream",
          "name": "stdout",
          "text": [
            "27\n"
          ]
        }
      ]
    },
    {
      "cell_type": "code",
      "source": [
        ""
      ],
      "metadata": {
        "id": "axqxJHRBdMQL"
      },
      "execution_count": 54,
      "outputs": []
    },
    {
      "cell_type": "markdown",
      "source": [
        "Find out which is the race with the minimum no. of citizens"
      ],
      "metadata": {
        "id": "yJVgGJLgfJcV"
      }
    },
    {
      "cell_type": "code",
      "source": [
        "min_citizen= min(len_0,len_1,len_2,len_3,len_4)\n",
        "print(min_citizen)"
      ],
      "metadata": {
        "colab": {
          "base_uri": "https://localhost:8080/"
        },
        "id": "-As1uInrbq_T",
        "outputId": "1212994d-47c9-4f16-d2b0-7359dddba33c"
      },
      "execution_count": 55,
      "outputs": [
        {
          "output_type": "stream",
          "name": "stdout",
          "text": [
            "6\n"
          ]
        }
      ]
    },
    {
      "cell_type": "markdown",
      "source": [
        "Store the number associated with the minority race in a variable called 'minority_race'(For eg: if \"len(race_5)\" is the minimum, store 5 in 'minority_race' because that is the index of the race having the least no. of citizens )"
      ],
      "metadata": {
        "id": "OJmzGHoZfSHv"
      }
    },
    {
      "cell_type": "code",
      "source": [
        "if min_citizen==len_0:\n",
        "  print(\"Race_0 has minimum No of citizen\")\n",
        "elif min_citizen==len_1:\n",
        "  print(\"Race_1 has minimum No of citizen\")\n",
        "elif min_citizen==len_2:\n",
        "  print(\"Race_2 has minimum No of citizen\")\n",
        "elif min_citizen==len_3:\n",
        "  print(\"Race_3 has minimum No of citizen\")\n",
        "else:\n",
        "  print(\"Race_4 has minimum No of citizen\")\n"
      ],
      "metadata": {
        "colab": {
          "base_uri": "https://localhost:8080/"
        },
        "id": "NMXReieLdfxR",
        "outputId": "d0d5c81e-4488-49b9-e5d4-e000b605f8db"
      },
      "execution_count": 56,
      "outputs": [
        {
          "output_type": "stream",
          "name": "stdout",
          "text": [
            "Race_3 has minimum No of citizen\n"
          ]
        }
      ]
    },
    {
      "cell_type": "markdown",
      "source": [
        "Store the number associated with the minority race in a variable called 'minority_race'(For eg: if \"len(race_5)\" is the minimum, store 5 in 'minority_race' because that is the index of the race having the least no. of citizens )"
      ],
      "metadata": {
        "id": "jrg7qCPZhwnu"
      }
    },
    {
      "cell_type": "code",
      "source": [
        "if min_citizen==len_0:\n",
        "  minority_race=0 \n",
        "elif min_citizen==len_1:\n",
        "  minority_race=1\n",
        "elif min_citizen==len_2:\n",
        "  minority_race=2\n",
        "elif min_citizen==len_3:\n",
        "  minority_race=3\n",
        "else:\n",
        "  minority_race=4\n",
        "print(\"Minority Race: \",minority_race)"
      ],
      "metadata": {
        "colab": {
          "base_uri": "https://localhost:8080/"
        },
        "id": "8OJAJEirglPv",
        "outputId": "56807418-b174-4c19-a07a-d7f545839300"
      },
      "execution_count": 57,
      "outputs": [
        {
          "output_type": "stream",
          "name": "stdout",
          "text": [
            "Minority Race:  3\n"
          ]
        }
      ]
    },
    {
      "cell_type": "markdown",
      "source": [
        "# Step 5: As per govt. records citizens above 60 should not work more than 25 hours a week. Let us check if the policy is in place"
      ],
      "metadata": {
        "id": "E1Rwgqxf9F9V"
      }
    },
    {
      "cell_type": "markdown",
      "source": [
        "a.Create a new subset array called 'senior_citizens' by filtering 'census' according to age>60 (age is the column with index 0)"
      ],
      "metadata": {
        "id": "XT4Jy_Wn9Vww"
      }
    },
    {
      "cell_type": "markdown",
      "source": [
        "[Row,Columns]  :"
      ],
      "metadata": {
        "id": "6AEHuxcS-uGh"
      }
    },
    {
      "cell_type": "code",
      "source": [
        "#from age column, filter out age data > 60 \n",
        "senior_citizens = final_data[final_data[:,0]>60]\n",
        "print(senior_citizens)"
      ],
      "metadata": {
        "colab": {
          "base_uri": "https://localhost:8080/"
        },
        "id": "oX6E5VZv9Z4j",
        "outputId": "cc545ce0-84fe-4e14-a8b5-9ce2beb20729"
      },
      "execution_count": 61,
      "outputs": [
        {
          "output_type": "stream",
          "name": "stdout",
          "text": [
            "[[7.9000e+01 1.0000e+01 4.0000e+00 1.0000e+00 0.0000e+00 0.0000e+00\n",
            "  2.0000e+01 0.0000e+00]\n",
            " [6.7000e+01 6.0000e+00 4.0000e+00 1.0000e+00 0.0000e+00 0.0000e+00\n",
            "  2.0000e+00 0.0000e+00]\n",
            " [7.6000e+01 1.4000e+01 4.0000e+00 1.0000e+00 0.0000e+00 0.0000e+00\n",
            "  4.0000e+01 1.0000e+00]\n",
            " [6.1000e+01 9.0000e+00 4.0000e+00 1.0000e+00 0.0000e+00 0.0000e+00\n",
            "  4.0000e+01 0.0000e+00]\n",
            " [7.0000e+01 1.0000e+01 4.0000e+00 1.0000e+00 0.0000e+00 0.0000e+00\n",
            "  4.0000e+01 0.0000e+00]\n",
            " [6.4000e+01 7.0000e+00 4.0000e+00 1.0000e+00 0.0000e+00 2.1790e+03\n",
            "  4.0000e+01 0.0000e+00]\n",
            " [7.1000e+01 1.0000e+01 2.0000e+00 1.0000e+00 0.0000e+00 1.8160e+03\n",
            "  2.0000e+00 0.0000e+00]\n",
            " [6.8000e+01 2.0000e+00 4.0000e+00 0.0000e+00 0.0000e+00 0.0000e+00\n",
            "  2.0000e+01 0.0000e+00]\n",
            " [6.6000e+01 1.1000e+01 4.0000e+00 0.0000e+00 0.0000e+00 0.0000e+00\n",
            "  2.0000e+01 0.0000e+00]\n",
            " [6.4000e+01 2.0000e+00 4.0000e+00 1.0000e+00 0.0000e+00 0.0000e+00\n",
            "  4.0000e+01 0.0000e+00]\n",
            " [9.0000e+01 9.0000e+00 2.0000e+00 1.0000e+00 0.0000e+00 2.2060e+03\n",
            "  4.0000e+01 0.0000e+00]\n",
            " [6.6000e+01 9.0000e+00 4.0000e+00 1.0000e+00 1.4090e+03 0.0000e+00\n",
            "  5.0000e+01 0.0000e+00]\n",
            " [7.5000e+01 1.1000e+01 4.0000e+00 0.0000e+00 0.0000e+00 0.0000e+00\n",
            "  2.0000e+01 0.0000e+00]\n",
            " [6.5000e+01 9.0000e+00 4.0000e+00 0.0000e+00 0.0000e+00 0.0000e+00\n",
            "  4.0000e+01 0.0000e+00]\n",
            " [6.4000e+01 9.0000e+00 4.0000e+00 1.0000e+00 0.0000e+00 0.0000e+00\n",
            "  4.0000e+01 1.0000e+00]\n",
            " [6.1000e+01 9.0000e+00 4.0000e+00 1.0000e+00 0.0000e+00 0.0000e+00\n",
            "  4.0000e+01 1.0000e+00]\n",
            " [6.5000e+01 9.0000e+00 4.0000e+00 1.0000e+00 0.0000e+00 0.0000e+00\n",
            "  1.6000e+01 0.0000e+00]\n",
            " [7.7000e+01 1.0000e+01 4.0000e+00 1.0000e+00 0.0000e+00 0.0000e+00\n",
            "  4.0000e+01 0.0000e+00]\n",
            " [6.2000e+01 9.0000e+00 4.0000e+00 0.0000e+00 0.0000e+00 0.0000e+00\n",
            "  2.4000e+01 0.0000e+00]\n",
            " [7.6000e+01 1.4000e+01 4.0000e+00 1.0000e+00 0.0000e+00 0.0000e+00\n",
            "  1.0000e+01 0.0000e+00]\n",
            " [6.3000e+01 9.0000e+00 4.0000e+00 1.0000e+00 0.0000e+00 0.0000e+00\n",
            "  4.5000e+01 0.0000e+00]\n",
            " [6.6000e+01 9.0000e+00 4.0000e+00 1.0000e+00 2.0500e+03 0.0000e+00\n",
            "  5.5000e+01 0.0000e+00]\n",
            " [6.7000e+01 7.0000e+00 4.0000e+00 1.0000e+00 0.0000e+00 0.0000e+00\n",
            "  8.0000e+00 0.0000e+00]\n",
            " [6.5000e+01 7.0000e+00 3.0000e+00 1.0000e+00 0.0000e+00 0.0000e+00\n",
            "  4.0000e+01 0.0000e+00]\n",
            " [6.2000e+01 1.4000e+01 4.0000e+00 1.0000e+00 0.0000e+00 0.0000e+00\n",
            "  4.0000e+01 1.0000e+00]\n",
            " [6.3000e+01 9.0000e+00 4.0000e+00 1.0000e+00 0.0000e+00 0.0000e+00\n",
            "  4.0000e+01 1.0000e+00]\n",
            " [8.0000e+01 9.0000e+00 4.0000e+00 1.0000e+00 0.0000e+00 0.0000e+00\n",
            "  2.4000e+01 0.0000e+00]\n",
            " [6.7000e+01 1.1000e+01 4.0000e+00 0.0000e+00 0.0000e+00 0.0000e+00\n",
            "  2.4000e+01 0.0000e+00]\n",
            " [6.3000e+01 2.0000e+00 4.0000e+00 1.0000e+00 0.0000e+00 0.0000e+00\n",
            "  3.5000e+01 0.0000e+00]\n",
            " [7.2000e+01 9.0000e+00 4.0000e+00 1.0000e+00 0.0000e+00 0.0000e+00\n",
            "  2.0000e+01 0.0000e+00]\n",
            " [6.2000e+01 9.0000e+00 4.0000e+00 1.0000e+00 0.0000e+00 0.0000e+00\n",
            "  4.0000e+01 0.0000e+00]\n",
            " [7.4000e+01 1.0000e+01 4.0000e+00 0.0000e+00 0.0000e+00 0.0000e+00\n",
            "  9.0000e+00 0.0000e+00]\n",
            " [6.7000e+01 1.5000e+01 4.0000e+00 1.0000e+00 2.0051e+04 0.0000e+00\n",
            "  4.8000e+01 1.0000e+00]\n",
            " [7.2000e+01 7.0000e+00 4.0000e+00 0.0000e+00 0.0000e+00 0.0000e+00\n",
            "  4.0000e+01 0.0000e+00]\n",
            " [6.9000e+01 7.0000e+00 4.0000e+00 0.0000e+00 0.0000e+00 0.0000e+00\n",
            "  4.0000e+01 0.0000e+00]\n",
            " [6.5000e+01 1.0000e+01 4.0000e+00 1.0000e+00 0.0000e+00 0.0000e+00\n",
            "  3.0000e+01 1.0000e+00]\n",
            " [6.5000e+01 5.0000e+00 2.0000e+00 0.0000e+00 0.0000e+00 0.0000e+00\n",
            "  2.4000e+01 0.0000e+00]\n",
            " [7.1000e+01 9.0000e+00 4.0000e+00 1.0000e+00 0.0000e+00 0.0000e+00\n",
            "  1.5000e+01 0.0000e+00]\n",
            " [7.0000e+01 5.0000e+00 4.0000e+00 0.0000e+00 1.1110e+03 0.0000e+00\n",
            "  1.5000e+01 0.0000e+00]\n",
            " [6.6000e+01 4.0000e+00 4.0000e+00 1.0000e+00 0.0000e+00 0.0000e+00\n",
            "  4.0000e+00 0.0000e+00]\n",
            " [6.5000e+01 7.0000e+00 4.0000e+00 1.0000e+00 9.3860e+03 0.0000e+00\n",
            "  5.9000e+01 1.0000e+00]\n",
            " [6.1000e+01 9.0000e+00 4.0000e+00 1.0000e+00 0.0000e+00 2.3520e+03\n",
            "  5.0000e+01 0.0000e+00]\n",
            " [6.1000e+01 9.0000e+00 4.0000e+00 1.0000e+00 0.0000e+00 0.0000e+00\n",
            "  4.0000e+01 0.0000e+00]\n",
            " [6.8000e+01 7.0000e+00 4.0000e+00 1.0000e+00 0.0000e+00 0.0000e+00\n",
            "  2.0000e+01 0.0000e+00]\n",
            " [6.4000e+01 1.3000e+01 4.0000e+00 1.0000e+00 0.0000e+00 0.0000e+00\n",
            "  4.0000e+01 1.0000e+00]\n",
            " [6.4000e+01 9.0000e+00 4.0000e+00 1.0000e+00 0.0000e+00 0.0000e+00\n",
            "  4.5000e+01 0.0000e+00]\n",
            " [6.2000e+01 9.0000e+00 4.0000e+00 0.0000e+00 0.0000e+00 0.0000e+00\n",
            "  4.0000e+01 0.0000e+00]\n",
            " [7.3000e+01 9.0000e+00 4.0000e+00 1.0000e+00 0.0000e+00 0.0000e+00\n",
            "  4.0000e+01 0.0000e+00]\n",
            " [7.2000e+01 7.0000e+00 4.0000e+00 0.0000e+00 0.0000e+00 0.0000e+00\n",
            "  2.4000e+01 0.0000e+00]\n",
            " [6.3000e+01 9.0000e+00 4.0000e+00 1.0000e+00 0.0000e+00 0.0000e+00\n",
            "  6.0000e+00 0.0000e+00]\n",
            " [6.2000e+01 1.3000e+01 4.0000e+00 0.0000e+00 0.0000e+00 0.0000e+00\n",
            "  4.8000e+01 0.0000e+00]\n",
            " [6.1000e+01 1.4000e+01 4.0000e+00 0.0000e+00 0.0000e+00 0.0000e+00\n",
            "  4.0000e+01 1.0000e+00]\n",
            " [7.1000e+01 1.4000e+01 4.0000e+00 1.0000e+00 1.0605e+04 0.0000e+00\n",
            "  4.0000e+01 1.0000e+00]\n",
            " [6.3000e+01 1.0000e+01 4.0000e+00 1.0000e+00 0.0000e+00 0.0000e+00\n",
            "  1.5000e+01 0.0000e+00]\n",
            " [6.3000e+01 4.0000e+00 4.0000e+00 1.0000e+00 0.0000e+00 0.0000e+00\n",
            "  5.5000e+01 0.0000e+00]\n",
            " [6.7000e+01 9.0000e+00 1.0000e+00 1.0000e+00 0.0000e+00 0.0000e+00\n",
            "  4.0000e+01 1.0000e+00]\n",
            " [8.1000e+01 9.0000e+00 4.0000e+00 1.0000e+00 0.0000e+00 0.0000e+00\n",
            "  3.0000e+01 0.0000e+00]\n",
            " [6.4000e+01 9.0000e+00 4.0000e+00 1.0000e+00 0.0000e+00 0.0000e+00\n",
            "  5.0000e+00 0.0000e+00]\n",
            " [6.7000e+01 1.3000e+01 4.0000e+00 1.0000e+00 0.0000e+00 2.3920e+03\n",
            "  4.0000e+01 1.0000e+00]\n",
            " [7.8000e+01 9.0000e+00 2.0000e+00 0.0000e+00 2.9640e+03 0.0000e+00\n",
            "  4.0000e+01 0.0000e+00]\n",
            " [6.3000e+01 1.1000e+01 4.0000e+00 0.0000e+00 0.0000e+00 0.0000e+00\n",
            "  2.0000e+01 0.0000e+00]]\n"
          ]
        }
      ]
    },
    {
      "cell_type": "markdown",
      "source": [
        "b.Add all the working hours(working hours is the column with index 6) of 'senior_citizens' and store it in a variable called 'working_hours_sum'"
      ],
      "metadata": {
        "id": "mDbsg8N0_K8b"
      }
    },
    {
      "cell_type": "code",
      "source": [
        "working_hours_sum =sum(senior_citizens[:,6])\n",
        "working_hours_sum \n"
      ],
      "metadata": {
        "colab": {
          "base_uri": "https://localhost:8080/"
        },
        "id": "IxsVoRE6_Mku",
        "outputId": "61d95cf9-414c-4edd-cbe2-e7d5c46916be"
      },
      "execution_count": 63,
      "outputs": [
        {
          "output_type": "execute_result",
          "data": {
            "text/plain": [
              "1917.0"
            ]
          },
          "metadata": {},
          "execution_count": 63
        }
      ]
    },
    {
      "cell_type": "markdown",
      "source": [
        "c.Find the length of 'senior_citizens' and store it in a variable called 'senior_citizens_len'"
      ],
      "metadata": {
        "id": "l4h6_8DfBD9x"
      }
    },
    {
      "cell_type": "code",
      "source": [
        "senior_citizens_len= len(senior_citizens)\n",
        "senior_citizens_len"
      ],
      "metadata": {
        "colab": {
          "base_uri": "https://localhost:8080/"
        },
        "id": "bOIRbteaBHoo",
        "outputId": "1137308f-94e3-4f7d-8ee7-fd06a4fd4914"
      },
      "execution_count": 65,
      "outputs": [
        {
          "output_type": "execute_result",
          "data": {
            "text/plain": [
              "61"
            ]
          },
          "metadata": {},
          "execution_count": 65
        }
      ]
    },
    {
      "cell_type": "markdown",
      "source": [
        "d. Finally find the average working hours of the senior citizens by dividing 'working_hours_sum' by 'senior_citizens_len' and store it in a variable called 'avg_working hours'."
      ],
      "metadata": {
        "id": "-6mWgLiXBgAW"
      }
    },
    {
      "cell_type": "code",
      "source": [
        "avg_working_hours = working_hours_sum/senior_citizens_len\n",
        "avg_working_hours"
      ],
      "metadata": {
        "colab": {
          "base_uri": "https://localhost:8080/"
        },
        "id": "XLtzXI73BlKf",
        "outputId": "041b50da-b184-4643-9a68-03a718dc9d25"
      },
      "execution_count": 67,
      "outputs": [
        {
          "output_type": "execute_result",
          "data": {
            "text/plain": [
              "31.42622950819672"
            ]
          },
          "metadata": {},
          "execution_count": 67
        }
      ]
    },
    {
      "cell_type": "markdown",
      "source": [
        "e. Print 'avg_working_hours' and see if the govt. policy is followed."
      ],
      "metadata": {
        "id": "VS382pv_CY1Q"
      }
    },
    {
      "cell_type": "code",
      "source": [
        "print(\"Average Working Hour:\", avg_working_hours)\n",
        "if avg_working_hours > 25:\n",
        "  print('the policy is not followed')\n",
        "else:\n",
        "  print('policy is followed')\n",
        "\n"
      ],
      "metadata": {
        "colab": {
          "base_uri": "https://localhost:8080/"
        },
        "id": "oNNefmZ-CcQr",
        "outputId": "8a4bed86-f646-4ad2-f688-c0610e7d669b"
      },
      "execution_count": 70,
      "outputs": [
        {
          "output_type": "stream",
          "name": "stdout",
          "text": [
            "Average Working Hour: 31.42622950819672\n",
            "the policy is not followed\n"
          ]
        }
      ]
    },
    {
      "cell_type": "markdown",
      "source": [
        "# Step 6: Let's check that higher educated people have better pay in general."
      ],
      "metadata": {
        "id": "KRGhpDBKEIa-"
      }
    },
    {
      "cell_type": "markdown",
      "source": [
        "Create two new subset arrays called 'high' and 'low' by filtering 'census' according to education-num>10 and education-num<=10 (education-num is the column with index 1) respectively.\n",
        "\n"
      ],
      "metadata": {
        "id": "-5rc9FarELwP"
      }
    },
    {
      "cell_type": "code",
      "source": [
        "high = final_data[final_data[:,1]>10]\n",
        "\n",
        "low = final_data[final_data[:,1]<=10]\n"
      ],
      "metadata": {
        "id": "DOCE7W4BEPmT"
      },
      "execution_count": 72,
      "outputs": []
    },
    {
      "cell_type": "markdown",
      "source": [
        "Find the mean of income column(income is the column with index 7) of 'high' array and store it in 'avg_pay_high'. Do the same for 'low' array and store it's mean in 'avg_pay_low'."
      ],
      "metadata": {
        "id": "I4MwXFEbFEjV"
      }
    },
    {
      "cell_type": "code",
      "source": [
        "avg_pay_high=  high[:,7].mean()\n",
        "print(\"Average Pay for Higher Educated People\",round(avg_pay_high,2))"
      ],
      "metadata": {
        "colab": {
          "base_uri": "https://localhost:8080/"
        },
        "id": "aaHfrQd1FItV",
        "outputId": "8647ea5d-9b2f-4c74-e81c-2405c907f309"
      },
      "execution_count": 77,
      "outputs": [
        {
          "output_type": "stream",
          "name": "stdout",
          "text": [
            "Average Pay for Higher Educated People 0.43\n"
          ]
        }
      ]
    },
    {
      "cell_type": "code",
      "source": [
        "avg_pay_low = low[:,7].mean()\n",
        "print('average pay for low educated people',round(avg_pay_low,2))"
      ],
      "metadata": {
        "colab": {
          "base_uri": "https://localhost:8080/"
        },
        "id": "W4pJ8mhvHjlL",
        "outputId": "717875ad-efee-4549-ecc4-f883c94f561b"
      },
      "execution_count": 79,
      "outputs": [
        {
          "output_type": "stream",
          "name": "stdout",
          "text": [
            "average pay for low educated people 0.14\n"
          ]
        }
      ]
    }
  ]
}